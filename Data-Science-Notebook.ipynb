{
 "cells": [
  {
   "cell_type": "markdown",
   "metadata": {},
   "source": [
    "# Data Science Introduction\n",
    "\n",
    "Summer 2021 "
   ]
  },
  {
   "cell_type": "markdown",
   "metadata": {},
   "source": [
    "## Outline \n",
    "\n",
    "1. Section 1: Introduction\n",
    "    - Overall problem\n",
    "    - Types of data and how to handle\n",
    "    - Types of algorithms \n",
    "    - Types of error \n",
    "    - Dealing with error"
   ]
  },
  {
   "cell_type": "markdown",
   "metadata": {},
   "source": [
    "### Overall Problem\n",
    "\n",
    "- Given some data, make some predictions\n",
    "- Two main types: supervised learning (labels) and unsupurvised learning (no labels)"
   ]
  },
  {
   "cell_type": "markdown",
   "metadata": {},
   "source": [
    "### Data\n",
    "- Possible data types: numeric, categorical, text, image, etc\n",
    "- For numeric data, you should almost always scale\n",
    "- Categorical data, use one hot encoding\n",
    "- Text is much more open-ended and best practices are changing\n",
    "- Image generally uses pixel values "
   ]
  },
  {
   "cell_type": "markdown",
   "metadata": {},
   "source": [
    "### Numeric Data\n",
    "\n",
    "- There are many scaling methods, but a common one is the standard scaler (z score). Other options could be min-max scaler, bucketing.\n",
    "- Most important is that the values for each feature are comparable, ie not having one feature in the millions and one z score"
   ]
  },
  {
   "cell_type": "code",
   "execution_count": null,
   "metadata": {},
   "outputs": [],
   "source": [
    "from sklearn.datasets import load_boston\n",
    "from sklearn.preprocessing import StandardScaler\n",
    "import pandas as pd\n",
    "\n",
    "X, y = load_boston(return_X_y=True)\n",
    "X = pd.DataFrame(X)\n",
    "# features\n",
    "X.head()"
   ]
  },
  {
   "cell_type": "code",
   "execution_count": null,
   "metadata": {},
   "outputs": [],
   "source": [
    "X.describe()"
   ]
  },
  {
   "cell_type": "code",
   "execution_count": null,
   "metadata": {},
   "outputs": [],
   "source": [
    "# labels (AKA targets) - don't need to scale\n",
    "print(y[0:10])"
   ]
  },
  {
   "cell_type": "code",
   "execution_count": null,
   "metadata": {},
   "outputs": [],
   "source": [
    "scaler = StandardScaler()\n",
    "X_scaled = pd.DataFrame(scaler.fit_transform(X))\n",
    "\n",
    "# this is the data you would use in your model\n",
    "X_scaled"
   ]
  },
  {
   "cell_type": "code",
   "execution_count": null,
   "metadata": {},
   "outputs": [],
   "source": [
    "X_scaled.describe()"
   ]
  },
  {
   "cell_type": "markdown",
   "metadata": {},
   "source": [
    "### Categorical data\n",
    "\n",
    "One hot encoding is most standard method. Makes all categories binary columns. Can also use dictionary encoders that map some values to others"
   ]
  },
  {
   "cell_type": "code",
   "execution_count": null,
   "metadata": {},
   "outputs": [],
   "source": [
    "from sklearn.preprocessing import OneHotEncoder\n",
    "\n",
    "enc = OneHotEncoder(handle_unknown='ignore')\n",
    "\n",
    "X = [['Male', 1], ['Female', 3], ['Female', 2]]\n",
    "enc.fit_transform(X).toarray()\n",
    "# columns are F - M - 1 - 2 - 3"
   ]
  },
  {
   "cell_type": "markdown",
   "metadata": {},
   "source": [
    "### Text data\n",
    "\n",
    "Many tools available like bag of words, embeddings (BERT), topic modeling"
   ]
  },
  {
   "cell_type": "markdown",
   "metadata": {},
   "source": [
    "### Images\n",
    "\n",
    "Typically same processing is done on pixel values as with numeric data. Sometimes you may need to chunk the data for more/less granularity"
   ]
  },
  {
   "cell_type": "markdown",
   "metadata": {},
   "source": [
    "## Types of Algorithms\n",
    "\n",
    "1. Clustering\n",
    "    - k-nearest neighbors\n",
    "    - PCA\n",
    "    - LDA\n",
    "2. Prediction\n",
    "    - regression \n",
    "    - classification\n",
    "3. Embedding\n",
    "    - for text\n",
    "4. Neural Nets\n",
    "    - Deep learning, reinforment learning, GANs\n",
    "    \n",
    "    \n",
    "(more details next time)\n",
    "    "
   ]
  },
  {
   "cell_type": "markdown",
   "metadata": {},
   "source": [
    "## Types of Error\n",
    "\n",
    "1. Overfitting\n",
    "    - Your model does not generalize well to unseen data\n",
    "2. Underfitting\n",
    "    - Your model is too simplistic or you've suppressed too much\n",
    "3. Leakage\n",
    "    - Your model learns the 'wrong' things \n"
   ]
  },
  {
   "cell_type": "markdown",
   "metadata": {},
   "source": [
    "![alt text](images/fitting.png)"
   ]
  },
  {
   "cell_type": "markdown",
   "metadata": {},
   "source": [
    "## Dealing with Error / Getting the most out of your model\n",
    "\n",
    "1. Test/train split\n",
    "    - This is a must do!\n",
    "2. Parameter tuning\n",
    "    - Varies for every model type\n",
    "    - Cost function, regularization, kernel selection, class weights\n",
    "3. Feature engineering / selection \n",
    "    - Often useful, sometimes need expertise\n",
    "    - Mean, max, multiplying features, be careful about correlations and overfitting\n",
    "4. Ensemble methods\n",
    "    - combining multiple models into one big model\n",
    "5. Over/undersampling\n",
    "    - Used with class imbalance (anomaly detection), can tweak the training data sets\n",
    "6. Imputation\n",
    "    - Missing data points"
   ]
  },
  {
   "cell_type": "code",
   "execution_count": null,
   "metadata": {},
   "outputs": [],
   "source": [
    "from sklearn.model_selection import train_test_split\n",
    "\n",
    "\n",
    "X_train, X_test, y_train, y_test = train_test_split(\n",
    "     X_scaled, y, test_size=0.3, random_state=42)"
   ]
  },
  {
   "cell_type": "code",
   "execution_count": null,
   "metadata": {},
   "outputs": [],
   "source": []
  }
 ],
 "metadata": {
  "kernelspec": {
   "display_name": "Python 3",
   "language": "python",
   "name": "python3"
  },
  "language_info": {
   "codemirror_mode": {
    "name": "ipython",
    "version": 3
   },
   "file_extension": ".py",
   "mimetype": "text/x-python",
   "name": "python",
   "nbconvert_exporter": "python",
   "pygments_lexer": "ipython3",
   "version": "3.7.6"
  }
 },
 "nbformat": 4,
 "nbformat_minor": 4
}
